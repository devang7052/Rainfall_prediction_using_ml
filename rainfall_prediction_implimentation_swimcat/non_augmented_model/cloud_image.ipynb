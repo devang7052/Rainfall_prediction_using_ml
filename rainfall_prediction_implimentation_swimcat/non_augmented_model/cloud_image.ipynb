{
 "cells": [
  {
   "cell_type": "markdown",
   "metadata": {},
   "source": [
    "## data preprocess"
   ]
  },
  {
   "cell_type": "markdown",
   "metadata": {},
   "source": [
    "##### for augmented data:"
   ]
  },
  {
   "cell_type": "code",
   "execution_count": null,
   "metadata": {},
   "outputs": [],
   "source": [
    "# from tensorflow.keras.preprocessing.image import ImageDataGenerator\n",
    "# # Define your data directory\n",
    "# data_dir = 'Swimcat'\n",
    "# # Create an ImageDataGenerator\n",
    "# datagen = ImageDataGenerator(\n",
    "#     rescale=1./255, validation_split=0.2,\n",
    "#     zoom_range=0.2,\n",
    "#     horizontal_flip=True,\n",
    "#     rotation_range=20,  # You can adjust the rotation range\n",
    "#     brightness_range=[0.8, 1.2]\n",
    "# )\n",
    "\n",
    "# # Load the training dataset\n",
    "# train_generator = datagen.flow_from_directory(\n",
    "#     data_dir,\n",
    "#     target_size=(224, 224),  # Adjust the target size according to your model requirements\n",
    "#     batch_size=32,\n",
    "#     class_mode='categorical',  # 'binary' for binary classification\n",
    "#     subset='training'\n",
    "# )\n",
    "\n",
    "# # Load the validation dataset\n",
    "# validation_generator = datagen.flow_from_directory(\n",
    "#     data_dir,\n",
    "#     target_size=(224, 224),\n",
    "#     batch_size=32,\n",
    "#     class_mode='categorical',\n",
    "#     subset='validation'\n",
    "# )\n",
    "\n",
    "# datagen_1 = ImageDataGenerator(rescale=1./255)\n",
    "    \n",
    "# test_generator = datagen_1.flow_from_directory(\n",
    "#     'Swimcat_test',\n",
    "#     target_size=(224, 224),\n",
    "#     batch_size=32,\n",
    "#     class_mode='categorical',\n",
    "\n",
    "    \n",
    "# )"
   ]
  },
  {
   "cell_type": "markdown",
   "metadata": {},
   "source": [
    "##### for non-augmented data:"
   ]
  },
  {
   "cell_type": "code",
   "execution_count": 1,
   "metadata": {},
   "outputs": [
    {
     "name": "stdout",
     "output_type": "stream",
     "text": [
      "WARNING:tensorflow:From c:\\Users\\asus\\AppData\\Local\\Programs\\Python\\Python310\\lib\\site-packages\\keras\\src\\losses.py:2976: The name tf.losses.sparse_softmax_cross_entropy is deprecated. Please use tf.compat.v1.losses.sparse_softmax_cross_entropy instead.\n",
      "\n",
      "Found 1536 images belonging to 6 classes.\n",
      "Found 378 images belonging to 6 classes.\n",
      "Found 186 images belonging to 6 classes.\n"
     ]
    }
   ],
   "source": [
    "from tensorflow.keras.preprocessing.image import ImageDataGenerator\n",
    "# Define your data directory\n",
    "data_dir = 'Swimcat'\n",
    "# Create an ImageDataGenerator\n",
    "datagen = ImageDataGenerator(\n",
    "    rescale=1./255, validation_split=0.2,\n",
    "\n",
    ")\n",
    "\n",
    "# Load the training dataset\n",
    "train_generator = datagen.flow_from_directory(\n",
    "    data_dir,\n",
    "    target_size=(224, 224),  # Adjust the target size according to your model requirements\n",
    "    batch_size=32,\n",
    "    class_mode='categorical',  # 'binary' for binary classification\n",
    "    subset='training'\n",
    ")\n",
    "\n",
    "# Load the validation dataset\n",
    "validation_generator = datagen.flow_from_directory(\n",
    "    data_dir,\n",
    "    target_size=(224, 224),\n",
    "    batch_size=32,\n",
    "    class_mode='categorical',\n",
    "    subset='validation'\n",
    ")\n",
    "\n",
    "datagen_1 = ImageDataGenerator(rescale=1./255)\n",
    "test_generator = datagen_1.flow_from_directory(\n",
    "    'Swimcat_test',\n",
    "    target_size=(224, 224),\n",
    "    batch_size=32,\n",
    "    class_mode='categorical',\n",
    "    \n",
    ")"
   ]
  },
  {
   "cell_type": "code",
   "execution_count": 2,
   "metadata": {},
   "outputs": [],
   "source": [
    "import numpy as np\n",
    "def load(data):\n",
    "    train_x=[]\n",
    "    train_y=[]\n",
    "    for i in range(len(data)):\n",
    "        image,label=data[i]\n",
    "        train_x.extend(image)\n",
    "        train_y.extend(label)\n",
    "    return np.array(train_x),np.array(train_y)\n",
    "\n"
   ]
  },
  {
   "cell_type": "code",
   "execution_count": 3,
   "metadata": {},
   "outputs": [],
   "source": [
    "train_x,train_y=load(train_generator)\n",
    "val_x,val_y=load(validation_generator)\n",
    "test_x,test_y=load(test_generator)"
   ]
  },
  {
   "cell_type": "code",
   "execution_count": 4,
   "metadata": {},
   "outputs": [],
   "source": [
    "def make_it_binary(prediction_arr):\n",
    "    for arr in prediction_arr:\n",
    "        max_index = np.argmax(arr)\n",
    "        arr[:] = 0\n",
    "        arr[max_index] = 1\n",
    "    return prediction_arr"
   ]
  },
  {
   "cell_type": "code",
   "execution_count": 5,
   "metadata": {},
   "outputs": [],
   "source": [
    "from sklearn.metrics import accuracy_score,precision_score,recall_score,f1_score\n",
    "def evaluate(test_p,actual,name='model',all=True):\n",
    "    test=make_it_binary(test_p)\n",
    "    print(f'{name} accuracy: {accuracy_score(actual,test)}\\n')\n",
    "    if all==True:\n",
    "        for i in range(6):\n",
    "            print(f'{name} accuracy for class {i+1}: {accuracy_score(actual[:,i],test[:,i])}')\n",
    "            print(f'{name} precision for class {i+1}: {precision_score(actual[:,i],test[:,i])}')\n",
    "            print(f'{name} recall for class {i+1}: {recall_score(actual[:,i],test[:,i])}')\n",
    "            print(f'{name} f1 score for class {i+1}: {f1_score(actual[:,i],test[:,i])}\\n')\n",
    "    "
   ]
  },
  {
   "cell_type": "markdown",
   "metadata": {},
   "source": [
    "## models"
   ]
  },
  {
   "cell_type": "markdown",
   "metadata": {},
   "source": [
    "#### vgg16"
   ]
  },
  {
   "cell_type": "code",
   "execution_count": null,
   "metadata": {},
   "outputs": [],
   "source": [
    "import tensorflow as tf\n",
    "from tensorflow.keras import layers, models\n",
    "# from tensorflow.keras.applications import AlexNet\n",
    "from tensorflow.keras.optimizers import Adam\n",
    "from tensorflow.keras.preprocessing.image import ImageDataGenerator\n",
    "\n",
    "# Load pre-trained AlexNet model without top (final fully connected layers)\n",
    "base_model = tf.keras.applications.VGG16(weights='imagenet', include_top=False, input_shape=(224, 224, 3))\n",
    "\n",
    "# Freeze the layers in the base model\n",
    "for layer in base_model.layers:\n",
    "    layer.trainable = False\n",
    "\n",
    "# Add custom top layers for your specific task\n",
    "model = models.Sequential([\n",
    "    base_model,\n",
    "    layers.Flatten(),\n",
    "    layers.Dense(256, activation='relu'),\n",
    "    layers.Dropout(0.5),\n",
    "    layers.Dense(6, activation='softmax')  # num_classes is the number of classes in your task\n",
    "])\n",
    "\n",
    "# Compile the model\n",
    "model.compile(optimizer=Adam(), loss='categorical_crossentropy', metrics=['accuracy'])\n",
    "\n",
    "# Print model summary\n",
    "model.summary()\n",
    "\n",
    "model.fit(train_x,train_y,epochs=20)\n"
   ]
  },
  {
   "cell_type": "code",
   "execution_count": null,
   "metadata": {},
   "outputs": [],
   "source": [
    "import tensorflow as tf\n",
    "# model.save('vgg16_model.h5')\n",
    "model = tf.keras.models.load_model(\"vgg16_model.h5\")\n",
    "\n"
   ]
  },
  {
   "cell_type": "code",
   "execution_count": null,
   "metadata": {},
   "outputs": [],
   "source": [
    "# prediction=model.predict(train_x)\n",
    "# val_prediction=model.predict(val_x)\n",
    "# test_prediction=model.predict(test_x)\n",
    "evaluate(val_prediction,val_y,'val',all=False)\n",
    "# evaluate(prediction,train_y,'train',all=False)\n",
    "evaluate(test_prediction,test_y,'test',all=False)"
   ]
  },
  {
   "cell_type": "code",
   "execution_count": null,
   "metadata": {},
   "outputs": [],
   "source": [
    "from sklearn.metrics import accuracy_score\n",
    "print(f'training accuracy: {accuracy_score(train_y,prediction)}')\n",
    "print(f'validation accuracy: {accuracy_score(val_y,val_prediction)}')\n",
    "\n",
    "# training accuracy: 0.998046875\n",
    "# validation accuracy: 0.9312169312169312\n",
    "# test accuracy: 0.956989247311828"
   ]
  },
  {
   "cell_type": "markdown",
   "metadata": {},
   "source": [
    "## resnet 50"
   ]
  },
  {
   "cell_type": "code",
   "execution_count": null,
   "metadata": {},
   "outputs": [],
   "source": [
    "from tensorflow.keras.applications import ResNet50V2\n",
    "from tensorflow.keras.preprocessing import image\n",
    "# from tensorflow.keras.applications.resnet50V2 import preprocess_input, decode_predictions\n",
    "from tensorflow.keras.layers import Dense, GlobalAveragePooling2D,Dropout, MaxPooling2D,Conv2D, Activation, Flatten \n",
    "from tensorflow.keras.models import Model\n",
    "from tensorflow.keras.optimizers import SGD\n",
    "\n",
    "# Load the pre-trained ResNet50 model without the top (fully connected) layers\n",
    "base_model = ResNet50V2(weights='imagenet', include_top=False,input_shape=(224,224,3))\n",
    "\n",
    "# Add a custom top (fully connected) layer for your specific task\n",
    "x = base_model.output\n",
    "x = Flatten()(x)\n",
    "x = Dense(256, activation='relu')(x)\n",
    "x=  Dropout(0.5)(x)\n",
    "predictions = Dense(6, activation='softmax')(x)  # Adjust 'num_classes' based on your task\n",
    "\n",
    "# Create the final model\n",
    "model = Model(inputs=base_model.input, outputs=predictions)\n",
    "\n",
    "for layer in base_model.layers:\n",
    "    layer.trainable = False\n",
    "\n",
    "# Freeze the weights of the pre-trained layers\n",
    "\n",
    "# Compile the model with an appropriate optimizer, loss, and metrics\n",
    "model.compile(optimizer='adam', loss='binary_crossentropy',metrics=['accuracy'])\n",
    "model.summary()\n"
   ]
  },
  {
   "cell_type": "code",
   "execution_count": null,
   "metadata": {},
   "outputs": [],
   "source": [
    "model.fit(train_x, train_y, epochs=20)"
   ]
  },
  {
   "cell_type": "code",
   "execution_count": null,
   "metadata": {},
   "outputs": [],
   "source": [
    "import tensorflow as tf\n",
    "model = tf.keras.models.load_model(\"resnet50_v2_model.h5\")\n",
    "# prediction=model.predict(train_x)\n",
    "# val_prediction=model.predict(val_x)\n",
    "test_prediction=model.predict(test_x)\n",
    "evaluate(test_prediction,test_y,'test',False)"
   ]
  },
  {
   "cell_type": "code",
   "execution_count": null,
   "metadata": {},
   "outputs": [],
   "source": [
    "# for non augmented\n",
    "# training accuracy: 1.0\n",
    "# validation accuracy: 0.9074074074074074\n",
    "# test accuracy: 0.8978494623655914\n",
    "\n",
    "\n",
    "# for augmented data:\n",
    "# test accuracy: 0.9301075268817204\n",
    "\n",
    "# test accuracy for class 1: 0.9946236559139785\n",
    "# test precision for class 1: 1.0\n",
    "# test recall for class 1: 0.967741935483871\n",
    "# test f1 score for class 1: 0.9836065573770492\n",
    "\n",
    "# test accuracy for class 2: 0.9838709677419355\n",
    "# test precision for class 2: 0.9117647058823529\n",
    "# test recall for class 2: 1.0\n",
    "# test f1 score for class 2: 0.9538461538461539\n",
    "\n",
    "# test accuracy for class 3: 0.9623655913978495\n",
    "# test precision for class 3: 0.8529411764705882\n",
    "# test recall for class 3: 0.9354838709677419\n",
    "# test f1 score for class 3: 0.8923076923076922\n",
    "\n",
    "# test accuracy for class 4: 0.978494623655914\n",
    "# test precision for class 4: 0.9655172413793104\n",
    "# test recall for class 4: 0.9032258064516129\n",
    "# test f1 score for class 4: 0.9333333333333333\n",
    "\n",
    "# test accuracy for class 5: 0.9623655913978495\n",
    "# test precision for class 5: 1.0\n",
    "# test recall for class 5: 0.7741935483870968\n",
    "# test f1 score for class 5: 0.8727272727272727\n",
    "\n",
    "# test accuracy for class 6: 0.978494623655914\n",
    "# test precision for class 6: 0.8857142857142857\n",
    "# test recall for class 6: 1.0\n",
    "# test f1 score for class 6: 0.9393939393939393\n",
    "\n",
    "\n"
   ]
  },
  {
   "cell_type": "markdown",
   "metadata": {},
   "source": [
    "## inception model"
   ]
  },
  {
   "cell_type": "code",
   "execution_count": null,
   "metadata": {},
   "outputs": [],
   "source": [
    "import tensorflow as tf\n",
    "from tensorflow.keras import layers, models\n",
    "# from tensorflow.keras.applications import AlexNet\n",
    "from tensorflow.keras.optimizers import Adam\n",
    "from tensorflow.keras.preprocessing.image import ImageDataGenerator\n",
    "\n",
    "# Load pre-trained AlexNet model without top (final fully connected layers)\n",
    "base_model = tf.keras.applications.InceptionV3(weights='imagenet', include_top=False, input_shape=(224, 224, 3))\n",
    "\n",
    "# Freeze the layers in the base model\n",
    "for layer in base_model.layers:\n",
    "    layer.trainable = False\n",
    "\n",
    "# Add custom top layers for your specific task\n",
    "model = models.Sequential([\n",
    "    base_model,\n",
    "    layers.Flatten(),\n",
    "    layers.Dense(256, activation='relu'),\n",
    "    layers.Dropout(0.5),\n",
    "    layers.Dense(6, activation='softmax')  # num_classes is the number of classes in your task\n",
    "])\n",
    "\n",
    "# Compile the model\n",
    "model.compile(optimizer=Adam(), loss='categorical_crossentropy', metrics=['accuracy'])\n",
    "\n",
    "# Print model summary\n",
    "model.summary()\n",
    "\n",
    "model.fit(train_x,train_y,epochs=20)"
   ]
  },
  {
   "cell_type": "code",
   "execution_count": null,
   "metadata": {},
   "outputs": [],
   "source": [
    "import tensorflow as tf\n",
    "# model.save('inception_v3_model.h5')\n",
    "# model = tf.keras.models.load_model(\"inception_v3_model.h5\")\n",
    "# prediction=model.predict(train_x)\n",
    "# val_prediction=model.predict(val_x)\n",
    "test_prediction=model.predict(test_x)\n",
    "\n",
    "# evaluate(val_prediction,val_y,'val',all=False)\n",
    "# evaluate(prediction,train_y,'train',all=False)\n",
    "evaluate(test_prediction,test_y,'test',all=False)\n"
   ]
  },
  {
   "cell_type": "code",
   "execution_count": null,
   "metadata": {},
   "outputs": [],
   "source": [
    "\n",
    "# for non augmented\n",
    "#train_accu= 1\n",
    "# val_accu=0.88\n",
    "# test accuracy: 0.8924731182795699\n",
    "\n",
    "# for augmented:\n",
    "# val accuracy: 0.9047619047619048\n",
    "# train accuracy: 0.9986979166666666\n",
    "# test accuracy: 0.8978494623655914"
   ]
  },
  {
   "cell_type": "markdown",
   "metadata": {},
   "source": [
    "### mobilenet v2\n",
    "\n"
   ]
  },
  {
   "cell_type": "code",
   "execution_count": null,
   "metadata": {},
   "outputs": [],
   "source": [
    "import tensorflow as tf\n",
    "from tensorflow.keras.preprocessing import image\n",
    "from tensorflow.keras.applications.mobilenet_v2 import MobileNetV2, preprocess_input, decode_predictions\n",
    "from tensorflow.keras import layers, models\n",
    "from tensorflow.keras.optimizers import Adam\n",
    "\n",
    "# Load MobileNetV2 with pre-trained weights (excluding the top classification layer)\n",
    "base_model = MobileNetV2(weights='imagenet', include_top=False, input_shape=(224, 224, 3))\n",
    "\n",
    "# Freeze the layers of the pre-trained model\n",
    "for layer in base_model.layers:\n",
    "    layer.trainable = False\n",
    "\n",
    "# Create a custom top model for fine-tuning\n",
    "x = base_model.output\n",
    "x = layers.GlobalAveragePooling2D()(x)\n",
    "x = layers.Dense(1024, activation='relu')(x)\n",
    "x = layers.Dropout(0.5)(x)\n",
    "predictions = layers.Dense(6, activation='softmax')(x)\n",
    "\n",
    "# Combine the base model with the custom top model\n",
    "model = models.Model(inputs=base_model.input, outputs=predictions)\n",
    "\n",
    "# Compile the model\n",
    "model.compile(optimizer=Adam(lr=0.0001), loss='categorical_crossentropy', metrics=['accuracy'])\n",
    "\n",
    "# Display the model summary\n",
    "model.summary()\n",
    "\n"
   ]
  },
  {
   "cell_type": "code",
   "execution_count": null,
   "metadata": {},
   "outputs": [],
   "source": [
    "model.fit(train_x,train_y,epochs=20,validation_data=[val_x,val_y])"
   ]
  },
  {
   "cell_type": "code",
   "execution_count": 8,
   "metadata": {},
   "outputs": [
    {
     "name": "stdout",
     "output_type": "stream",
     "text": [
      "12/12 [==============================] - 5s 299ms/step\n",
      "6/6 [==============================] - 2s 306ms/step\n",
      "val accuracy: 0.917989417989418\n",
      "\n",
      "test accuracy: 0.9247311827956989\n",
      "\n"
     ]
    }
   ],
   "source": [
    "import tensorflow as tf\n",
    "model = tf.keras.models.load_model(\"mobilenet_v2_model_after_aug.h5\")\n",
    "# prediction=model.predict(train_x)\n",
    "val_prediction=model.predict(val_x)\n",
    "test_prediction=model.predict(test_x)\n",
    "\n",
    "# evaluate(prediction,train_y,'train',all=False)\n",
    "evaluate(val_prediction,val_y,'val',all=False)\n",
    "evaluate(test_prediction,test_y,'test',all=False)\n",
    "\n",
    "\n",
    "# model.save('mobilenet_v2_model_after_aug.h5')\n",
    "\n",
    "# for non augmented:\n",
    "# training accuracy: 1.0\n",
    "# validation accuracy: 0.9206349206349206\n",
    "\n",
    "# for augmented:\n",
    "# train accuracy: 0.9986979166666666\n",
    "# val accuracy: 0.9338624338624338\n",
    "# test accuracy: 0.9247311827956989"
   ]
  },
  {
   "cell_type": "markdown",
   "metadata": {},
   "source": [
    "## densenet"
   ]
  },
  {
   "cell_type": "code",
   "execution_count": null,
   "metadata": {},
   "outputs": [],
   "source": [
    "import tensorflow as tf\n",
    "from tensorflow.keras.callbacks import EarlyStopping\n",
    "\n",
    "from tensorflow.keras.preprocessing import image\n",
    "from tensorflow.keras.applications.densenet import DenseNet121, preprocess_input, decode_predictions\n",
    "from tensorflow.keras import layers, models\n",
    "from tensorflow.keras.optimizers import Adam\n",
    "\n",
    "# Load DenseNet121 with pre-trained weights (excluding the top classification layer)\n",
    "base_model = DenseNet121(weights='imagenet', include_top=False, input_shape=(224, 224, 3))\n",
    "\n",
    "# Freeze the layers of the pre-trained model\n",
    "for layer in base_model.layers:\n",
    "    layer.trainable = False\n",
    "\n",
    "# Create a custom top model for fine-tuning\n",
    "x = base_model.output\n",
    "x = layers.GlobalAveragePooling2D()(x)\n",
    "x = layers.Dense(1024, activation='relu')(x)\n",
    "x = layers.Dropout(0.5)(x)\n",
    "predictions = layers.Dense(6, activation='softmax')(x)\n",
    "\n",
    "# Combine the base model with the custom top model\n",
    "model = models.Model(inputs=base_model.input, outputs=predictions)\n",
    "\n",
    "# Compile the model\n",
    "model.compile(optimizer=Adam(lr=0.0001), loss='categorical_crossentropy', metrics=['accuracy'])\n",
    "# Display the model summary\n",
    "model.summary()\n",
    "\n"
   ]
  },
  {
   "cell_type": "code",
   "execution_count": null,
   "metadata": {},
   "outputs": [],
   "source": [
    "\n",
    "model.fit(train_x,train_y,epochs=25,validation_data=[val_x,val_y])"
   ]
  },
  {
   "cell_type": "code",
   "execution_count": null,
   "metadata": {},
   "outputs": [],
   "source": [
    "import tensorflow as tf\n",
    "model = tf.keras.models.load_model('dense_net_model.h5')\n",
    "\n",
    "\n",
    "prediction=model.predict(train_x)\n",
    "val_prediction=model.predict(val_x)\n",
    "test_prediction=model.predict(test_x)\n",
    "\n",
    "\n",
    "evaluate(prediction,train_y,'train')\n",
    "# model.save('dense_net_model_after_aug.h5')\n",
    "\n",
    "# before augmentation:\n",
    "# training accuracy: 0.9993489583333334\n",
    "# validation accuracy: 0.9470899470899471\n",
    "# test accuracy: 0.9301075268817204\n",
    "\n",
    "\n",
    "# test accuracy for class 1: 0.989247311827957\n",
    "# test precision for class 1: 1.0\n",
    "# test recall for class 1: 0.9354838709677419\n",
    "# test f1 score for class 1: 0.9666666666666666\n",
    "\n",
    "# test accuracy for class 2: 0.9946236559139785\n",
    "# test precision for class 2: 0.96875\n",
    "# test recall for class 2: 1.0\n",
    "# test f1 score for class 2: 0.9841269841269841\n",
    "\n",
    "# test accuracy for class 3: 0.967741935483871\n",
    "# test precision for class 3: 0.8571428571428571\n",
    "# test recall for class 3: 0.967741935483871\n",
    "# test f1 score for class 3: 0.909090909090909\n",
    "\n",
    "# test accuracy for class 4: 0.967741935483871\n",
    "# test precision for class 4: 0.9310344827586207\n",
    "# test recall for class 4: 0.8709677419354839\n",
    "# test f1 score for class 4: 0.9\n",
    "\n",
    "# test accuracy for class 5: 0.967741935483871\n",
    "# test precision for class 5: 0.9629629629629629\n",
    "# test recall for class 5: 0.8387096774193549\n",
    "# test f1 score for class 5: 0.896551724137931\n",
    "\n",
    "# test accuracy for class 6: 0.9731182795698925\n",
    "# test precision for class 6: 0.8823529411764706\n",
    "# test recall for class 6: 0.967741935483871\n",
    "# test f1 score for class 6: 0.923076923076923\n",
    "\n",
    "\n",
    "# after augmentatioN:\n",
    "# training accuracy: 0.9934895833333334\n",
    "# validation accuracy: 0.9603174603174603\n",
    "# # test accuracy: 0.9001075268817204\n"
   ]
  },
  {
   "cell_type": "markdown",
   "metadata": {},
   "source": [
    "## nasnet"
   ]
  },
  {
   "cell_type": "code",
   "execution_count": null,
   "metadata": {},
   "outputs": [],
   "source": [
    "import tensorflow as tf\n",
    "from tensorflow.keras.applications import NASNetMobile\n",
    "from tensorflow.keras.preprocessing import image\n",
    "from tensorflow.keras.models import Model\n",
    "from tensorflow.keras.layers import Dense, GlobalAveragePooling2D\n",
    "from tensorflow.keras.optimizers import Adam\n",
    "from tensorflow.keras.preprocessing.image import ImageDataGenerator\n",
    "\n",
    "# Load NasNetMobile pre-trained on ImageNet data\n",
    "base_model = NASNetMobile(weights='imagenet', include_top=False,input_shape=(224, 224, 3))\n",
    "\n",
    "# Add a global spatial average pooling layer\n",
    "x = base_model.output\n",
    "x = GlobalAveragePooling2D()(x)\n",
    "\n",
    "# Add fully connected layers\n",
    "x = Dense(1024, activation='relu')(x)\n",
    "predictions = Dense(6, activation='softmax')(x)\n",
    "\n",
    "# Model to be trained\n",
    "model = Model(inputs=base_model.input, outputs=predictions)\n",
    "\n",
    "# Freeze pre-trained layers\n",
    "for layer in base_model.layers:\n",
    "    layer.trainable = False\n",
    "\n",
    "# Compile the model\n",
    "model.compile(optimizer=Adam(lr=0.001), \n",
    "              loss='categorical_crossentropy', \n",
    "              metrics=['accuracy'])"
   ]
  },
  {
   "cell_type": "code",
   "execution_count": null,
   "metadata": {},
   "outputs": [],
   "source": [
    "model.fit(train_x,train_y,epochs=20)"
   ]
  },
  {
   "cell_type": "code",
   "execution_count": null,
   "metadata": {},
   "outputs": [],
   "source": [
    "prediction=model.predict(train_x)\n",
    "val_prediction=model.predict(val_x)\n",
    "test_prediction=model.predict(test_x)\n",
    "\n",
    "evaluate(val_prediction,val_y,'val',all=False)\n",
    "evaluate(prediction,train_y,'train',all=False)\n",
    "evaluate(test_prediction,test_y,'test',all=False)\n",
    "\n",
    "\n",
    "model.save('nas_net_model_after_aug.h5')\n",
    "\n",
    "\n",
    "# for non augmented:\n",
    "# training accuracy: 1.0\n",
    "# validation accuracy: 0.9338624338624338\n",
    "\n",
    "\n",
    "# for augmented:\n",
    "# val accuracy: 0.9021164021164021\n",
    "# train accuracy: 1.0\n",
    "# test accuracy: 0.8924731182795699"
   ]
  },
  {
   "cell_type": "code",
   "execution_count": null,
   "metadata": {},
   "outputs": [],
   "source": [
    "# non augmented\n",
    "# vgg16\n",
    "# training accuracy: 0.998046875\n",
    "# validation accuracy: 0.9312169312169312\n",
    "\n",
    "# resnet50\n",
    "# training accuracy: 1.0\n",
    "# validation accuracy: 0.9074074074074074\n",
    "\n",
    "#inception model\n",
    "#train_accu= 1\n",
    "# val_accu=0.88\n",
    "\n",
    "# mobilenet_v2:\n",
    "# training accuracy: 1.0\n",
    "# validation accuracy: 0.9206349206349206\n",
    "\n",
    "# dense net\n",
    "# training accuracy: 0.9993489583333334\n",
    "# validation accuracy: 0.9470899470899471\n",
    "\n",
    "#nasnet\n",
    "# training accuracy: 1.0\n",
    "# validation accuracy: 0.9338624338624338\n",
    "\n",
    "\n",
    "#augmented\n",
    "\n",
    "# Dense Net:\n",
    "# training accuracy: 0.9934895833333334\n",
    "# validation accuracy: 0.9603174603174603"
   ]
  },
  {
   "cell_type": "code",
   "execution_count": null,
   "metadata": {},
   "outputs": [],
   "source": [
    "# data augmentaion,data extend\n",
    "# dropout layer increase\n",
    "\n",
    "# augmented"
   ]
  }
 ],
 "metadata": {
  "kernelspec": {
   "display_name": "Python 3",
   "language": "python",
   "name": "python3"
  },
  "language_info": {
   "codemirror_mode": {
    "name": "ipython",
    "version": 3
   },
   "file_extension": ".py",
   "mimetype": "text/x-python",
   "name": "python",
   "nbconvert_exporter": "python",
   "pygments_lexer": "ipython3",
   "version": "3.10.5"
  }
 },
 "nbformat": 4,
 "nbformat_minor": 2
}
